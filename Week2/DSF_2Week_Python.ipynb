{
 "cells": [
  {
   "cell_type": "markdown",
   "metadata": {},
   "source": [
    "# <div align=\"center\"> DSF 2. Week: Python Basics"
   ]
  },
  {
   "cell_type": "markdown",
   "metadata": {},
   "source": [
    "In this exercise, you will learn some of the basics of Python.\n",
    "\n",
    "If you are already familiar with Python you can skim through the instruction and only focus on the small exercises at each section, and then go to the challenges at the end of the document.\n",
    "\n",
    "**Remember**, you have to run the cell (`Ctrl + Enter`) to see its output."
   ]
  },
  {
   "cell_type": "markdown",
   "metadata": {},
   "source": [
    "## Contents:\n",
    "1. **Hello world!**\n",
    "1. **Variables**\n",
    "1. **Operations**\n",
    "1. **Containers**\n",
    "1. **Conditionals**\n",
    "1. **Loops**\n",
    "1. **Functions**\n",
    "1. **Challenges**"
   ]
  },
  {
   "cell_type": "markdown",
   "metadata": {},
   "source": [
    "## 1. Hello World!\n",
    "Let's start by printing text! We can print almost anything. Below are examples with text and numbers."
   ]
  },
  {
   "cell_type": "code",
   "execution_count": 20,
   "metadata": {},
   "outputs": [
    {
     "name": "stdout",
     "output_type": "stream",
     "text": [
      "Hello World!\n",
      "5\n",
      "5.1\n",
      "True\n",
      "50\n"
     ]
    }
   ],
   "source": [
    "print(\"Hello World!\")\n",
    "print(5)\n",
    "print(5.1)\n",
    "print(True)\n",
    "print(25 * 2)"
   ]
  },
  {
   "cell_type": "markdown",
   "metadata": {},
   "source": [
    "Commas in the print function will insert spaces between the entries. This will be particularly useful when we want to print a variable with unknown value, or print many things of different data types."
   ]
  },
  {
   "cell_type": "code",
   "execution_count": 21,
   "metadata": {},
   "outputs": [
    {
     "name": "stdout",
     "output_type": "stream",
     "text": [
      "Give me some space.\n",
      "The current year is 2021\n",
      "Jake is 5 years old.\n"
     ]
    }
   ],
   "source": [
    "print(\"Give\", \"me\", \"some\", \"space.\")\n",
    "\n",
    "print(\"The current year is\", 2021)\n",
    "\n",
    "x = 5\n",
    "print(\"Jake is\", x, \"years old.\")"
   ]
  },
  {
   "cell_type": "markdown",
   "metadata": {},
   "source": [
    "```\\n``` gives a newline, and ```\\t``` gives a tab."
   ]
  },
  {
   "cell_type": "code",
   "execution_count": 22,
   "metadata": {},
   "outputs": [
    {
     "name": "stdout",
     "output_type": "stream",
     "text": [
      "This is the first line.\n",
      "This is the second line, with a \t tab.\n"
     ]
    }
   ],
   "source": [
    "print(\"This is the first line.\\nThis is the second line, with a \\t tab.\")"
   ]
  },
  {
   "cell_type": "markdown",
   "metadata": {},
   "source": [
    "**Exercise: Using only one print function, print your name, age and favorite ZHAW course on three different lines.**"
   ]
  },
  {
   "cell_type": "code",
   "execution_count": 39,
   "metadata": {},
   "outputs": [
    {
     "name": "stdout",
     "output_type": "stream",
     "text": [
      "Luke\n",
      "24\n",
      "DataScience\n"
     ]
    }
   ],
   "source": [
    "# enter your code here!\n",
    "print(\"Luke\")\n",
    "print(\"24\")\n",
    "print(\"DataScience\")"
   ]
  },
  {
   "cell_type": "markdown",
   "metadata": {},
   "source": [
    "## 2. Variables\n",
    "### Declare and initialize?\n",
    "C++ is **statically typed** while Python is **dynamically typed**. This means that in C++, variable types are defined during compilation, while in Python they are defined during run-time.\n",
    "\n",
    "Because of this, in C++ you need to both *declare* a variable and its type, and then *initialize* it. In Python, you only need to initialize it. While types exist in Python, they are not written out when defining a variable."
   ]
  },
  {
   "cell_type": "code",
   "execution_count": 24,
   "metadata": {},
   "outputs": [
    {
     "name": "stdout",
     "output_type": "stream",
     "text": [
      "10\n",
      "3.14\n",
      "Epoch of Reionisation\n"
     ]
    }
   ],
   "source": [
    "# defining an integer variable\n",
    "x = 10\n",
    "# defining a double variable\n",
    "y = 3.14\n",
    "# defining a string\n",
    "word = \"Epoch of Reionisation\"\n",
    "\n",
    "# printing the variables\n",
    "print(x)\n",
    "print(y)\n",
    "print(word)"
   ]
  },
  {
   "cell_type": "markdown",
   "metadata": {},
   "source": [
    "In the above example it's easy to see that x is an integer, y is a double, and word is a string. But if you are unsure you can always check the type of a variable using ```type(someVariable)```."
   ]
  },
  {
   "cell_type": "code",
   "execution_count": 25,
   "metadata": {},
   "outputs": [
    {
     "name": "stdout",
     "output_type": "stream",
     "text": [
      "<class 'int'>\n",
      "<class 'float'>\n",
      "<class 'str'>\n"
     ]
    }
   ],
   "source": [
    "print( type(x) )\n",
    "print( type(y) )\n",
    "print( type(word) )"
   ]
  },
  {
   "cell_type": "markdown",
   "metadata": {},
   "source": [
    "### Changing type dynamically\n",
    "A blessing and a curse of Python is that you can change the type of a variable on the fly. Be careful that you don't accidentally change the type of variables unless desired!"
   ]
  },
  {
   "cell_type": "code",
   "execution_count": 26,
   "metadata": {},
   "outputs": [
    {
     "name": "stdout",
     "output_type": "stream",
     "text": [
      "Hello\n"
     ]
    }
   ],
   "source": [
    "# define an integer\n",
    "z = 7\n",
    "# redefine it as a string\n",
    "z = \"Hello\"\n",
    "\n",
    "print(z)"
   ]
  },
  {
   "cell_type": "markdown",
   "metadata": {},
   "source": [
    "### Type conversion\n",
    "If you have the number 64 stored as a string, but want to use it in computation, you can **cast** the string to an integer. To cast a variable to a different type, simply \"wrap\" it inside the type name. You can cast variables that \"make sense\" to cast. For example, you can cast 13 to a string \"13\" but you can't cast \"hello world!\" to a double (what would that even mean?)."
   ]
  },
  {
   "cell_type": "code",
   "execution_count": 27,
   "metadata": {
    "scrolled": false
   },
   "outputs": [
    {
     "name": "stdout",
     "output_type": "stream",
     "text": [
      "65\n"
     ]
    }
   ],
   "source": [
    "x = \"64\"\n",
    "# Need to cast x to an integer otherwise you get an error because you can't add an 'int' with a 'string'\n",
    "print( 1 + int(x) )"
   ]
  },
  {
   "cell_type": "markdown",
   "metadata": {},
   "source": [
    "Here is a list of common casts:\n",
    "* Integer: ```int()```\n",
    "* Double/Float: ```float()```\n",
    "* String: ```str()```\n",
    "\n",
    "**Exercise: Create a variable holding a decimal number and cast it to an integer. What happens with the value?**"
   ]
  },
  {
   "cell_type": "code",
   "execution_count": 41,
   "metadata": {},
   "outputs": [
    {
     "name": "stdout",
     "output_type": "stream",
     "text": [
      "25\n"
     ]
    }
   ],
   "source": [
    "# enter your code here!\n",
    "y = 25.5\n",
    "\n",
    "print(int(y))"
   ]
  },
  {
   "cell_type": "markdown",
   "metadata": {},
   "source": [
    "## 3. Operations\n",
    "### Numerical\n",
    "Operations of numbers work similar to C++."
   ]
  },
  {
   "cell_type": "code",
   "execution_count": 29,
   "metadata": {},
   "outputs": [
    {
     "name": "stdout",
     "output_type": "stream",
     "text": [
      "10\n",
      "-10\n",
      "9\n",
      "50.0\n",
      "3\n",
      "1\n",
      "1024\n"
     ]
    }
   ],
   "source": [
    "# addition\n",
    "print(5 + 5)\n",
    "\n",
    "# subtraction\n",
    "print(10 - 20)\n",
    "\n",
    "# multiplication\n",
    "print(3 * 3)\n",
    "\n",
    "# division\n",
    "print(100 / 2)\n",
    "\n",
    "# integer division\n",
    "print(7 // 2)\n",
    "\n",
    "# remainder\n",
    "print(7 % 2)\n",
    "\n",
    "# power\n",
    "print(2**10)"
   ]
  },
  {
   "cell_type": "markdown",
   "metadata": {},
   "source": [
    "### Strings\n",
    "We can use ```+``` for strings to concatenate them."
   ]
  },
  {
   "cell_type": "code",
   "execution_count": 30,
   "metadata": {},
   "outputs": [
    {
     "name": "stdout",
     "output_type": "stream",
     "text": [
      "Återvänd till apa.\n"
     ]
    }
   ],
   "source": [
    "fake_language = \"Återvänd\" + \" till\" + \" apa.\"\n",
    "print(fake_language)"
   ]
  },
  {
   "cell_type": "markdown",
   "metadata": {},
   "source": [
    "### Operations with variables\n",
    "If a variable is an integer or float, then we can do operations like normal with them."
   ]
  },
  {
   "cell_type": "code",
   "execution_count": 31,
   "metadata": {},
   "outputs": [
    {
     "name": "stdout",
     "output_type": "stream",
     "text": [
      "z = 3\n"
     ]
    }
   ],
   "source": [
    "x = 5\n",
    "y = x + 3\n",
    "z = y - x\n",
    "print(\"z =\", z)"
   ]
  },
  {
   "cell_type": "markdown",
   "metadata": {},
   "source": [
    "We can also use increment, decrement, and similar operators to update the value of a variable."
   ]
  },
  {
   "cell_type": "code",
   "execution_count": 32,
   "metadata": {},
   "outputs": [],
   "source": [
    "x = 100\n",
    "\n",
    "# same as x = x + 1\n",
    "x += 1\n",
    "\n",
    "# same as x = x -1\n",
    "x -= 1\n",
    "\n",
    "# same as x = x * 5\n",
    "x *= 5\n",
    "\n",
    "# same as x = x / 10\n",
    "x /= 10\n",
    "\n",
    "# same as x // 3\n",
    "x //= 3\n",
    "\n",
    "# same as x = x % 6\n",
    "x %= 6\n",
    "\n",
    "# same as x = x**5\n",
    "x **= 5"
   ]
  },
  {
   "cell_type": "markdown",
   "metadata": {},
   "source": [
    "A very common use of this is to increment a variable by one: ```x += 1```"
   ]
  },
  {
   "cell_type": "markdown",
   "metadata": {},
   "source": [
    "## 4. Containers\n",
    "Variables like integers, floats and strings are good when we only have one value to keep track of. If we have multiple values we can use a container like:\n",
    "\n",
    "1. List\n",
    "1. Dictionary\n",
    "\n",
    "There are many more containers but today we will focus on these two.\n",
    "\n",
    "### Lists\n",
    "Lists are similar to arrays in C++, except that can change in size. Common operations on a list include:\n",
    "\n",
    "1. **Access single element** ```my_list[0]``` will retrieve the first element in the list.\n",
    "1. **Append to the list** ```my_list.append(\"ZHAW\")```\n",
    "1. **Delete items at between index a and b** ```del my_list[a:b]``` if you leave a empty, start from beginning to b, and vice versa.\n",
    "1. **Remove a certain element** ```my_list.remove(\"rabbit\")``` will remove \"rabbit\" if it exists in the list.\n",
    "1. **Sum over all values** ```sum(someList)```\n",
    "1. **Maximum/minimum value in the list** ```max(myList)``` or ```min(myList)```\n",
    "\n",
    "A list is created using ```[]```."
   ]
  },
  {
   "cell_type": "code",
   "execution_count": 33,
   "metadata": {},
   "outputs": [
    {
     "name": "stdout",
     "output_type": "stream",
     "text": [
      "Years: [1997, 2000, 2002]\n",
      "Second element of years 2000\n",
      "Last element of years 2002\n"
     ]
    }
   ],
   "source": [
    "# create a list with some integers\n",
    "years = [1997, 2000, 2002]\n",
    "\n",
    "# elements don't have to share datatype!\n",
    "some_list = [1, \"hello\", 2.7]\n",
    "\n",
    "# you can print lists\n",
    "print(\"Years:\",years)\n",
    "\n",
    "# print second element of a list and last element\n",
    "print(\"Second element of years\", years[1])\n",
    "print(\"Last element of years\", years[-1])\n",
    "\n",
    "# change the 1st element of a list\n",
    "years[0] = 1776\n",
    "\n",
    "# append to the list\n",
    "years.append(2025)\n",
    "\n",
    "# sum over all values\n",
    "sum_of_years = sum(years)\n",
    "\n",
    "# minimum year\n",
    "minimum = min(years)\n",
    "\n",
    "# remove an element\n",
    "years.remove(2000)\n",
    "\n",
    "# delete first element\n",
    "del years[0]\n",
    "\n",
    "# you can also create an empty list and then append stuff to it\n",
    "empty_list = []"
   ]
  },
  {
   "cell_type": "markdown",
   "metadata": {},
   "source": [
    "### Exercise: Create a list with your name (string), age (integer), height in meters (double), and favorite animal (string). After this, change the animal element to \"Penguin\"."
   ]
  },
  {
   "cell_type": "code",
   "execution_count": 43,
   "metadata": {},
   "outputs": [
    {
     "name": "stdout",
     "output_type": "stream",
     "text": [
      "['Luke', 24, 1.98, 'Penguin']\n"
     ]
    }
   ],
   "source": [
    "# enter your code here!\n",
    "empty_list = [\"Luke\", 24, 1.98, \"cow\"]\n",
    "\n",
    "empty_list[3] = \"Penguin\"\n",
    "\n",
    "print(empty_list)"
   ]
  },
  {
   "cell_type": "markdown",
   "metadata": {},
   "source": [
    "### Dictionaries\n",
    "The basic idea is that the **value** of the elements in the container is tied to a **key**. To access a value in a dictionary, we use the key, not the position like in a list. This is very useful when we want to access a certain value given some other value, like a list of students and their grades. \n",
    "\n",
    "A dictionary is created using ```{}```.\n",
    "\n",
    "The keys and values can be any datatype, and they don't need to be the same datatype."
   ]
  },
  {
   "cell_type": "code",
   "execution_count": 35,
   "metadata": {},
   "outputs": [
    {
     "name": "stdout",
     "output_type": "stream",
     "text": [
      "{'Axel': 4.0, 'Albert': 5.5, 'Michael': 6.0}\n",
      "Grade of Axel 4.0\n",
      "{'Axel': 6.0, 'Albert': 5.5, 'Michael': 6.0}\n",
      "{'Axel': 6.0, 'Albert': 5.5, 'Michael': 6.0, 'Kenyan Drake': 5.0}\n"
     ]
    }
   ],
   "source": [
    "# A dictionary initiliazed with keys and values: Keys are names, values are grades\n",
    "grades = {\"Axel\": 4.0, \"Albert\": 5.5, \"Michael\": 6.0}\n",
    "print(grades)\n",
    "\n",
    "# access the value via the key\n",
    "print(\"Grade of Axel\", grades[\"Axel\"])\n",
    "\n",
    "# I can change the value as well\n",
    "grades[\"Axel\"] = 6.0\n",
    "print(grades)\n",
    "\n",
    "# I can also add a completely new person to the dictionary\n",
    "grades[\"Kenyan Drake\"] = 5.0\n",
    "print(grades)\n",
    "\n",
    "# Create an empty dictionary\n",
    "empty_dictionary = {}"
   ]
  },
  {
   "cell_type": "markdown",
   "metadata": {},
   "source": [
    "**Exercise: Create a dictionary with keys \"year\", \"month\" and \"day\" and initialize values to today's date. Then, increment the day by 1.**"
   ]
  },
  {
   "cell_type": "code",
   "execution_count": 44,
   "metadata": {},
   "outputs": [
    {
     "name": "stdout",
     "output_type": "stream",
     "text": [
      "{'year': 2023, 'month': 9, 'day': 27}\n"
     ]
    }
   ],
   "source": [
    "# enter your code here!\n",
    "\n",
    "date = {\"year\": 2023, \"month\": 9, \"day\": 26}\n",
    "\n",
    "date[\"day\"] += 1\n",
    "\n",
    "print(date)"
   ]
  },
  {
   "cell_type": "markdown",
   "metadata": {},
   "source": [
    "## 5. Conditionals\n",
    "### if, elif, else\n",
    "The syntax for if-else statements is very simple. **However**, notice that unlike C++, there are no brackets enclosing the block of code belonging to the if-statement! Instead, there is only indentation. This is true in general and not only for if-statements. **In Python, indentation plays the role of brackets. Make sure your indentations are aligned properly so that code belonging to the same block doesn't end up in the wrong block.** The if-statement ends when at the first line of **unindented** code."
   ]
  },
  {
   "cell_type": "code",
   "execution_count": 37,
   "metadata": {
    "scrolled": true
   },
   "outputs": [
    {
     "name": "stdout",
     "output_type": "stream",
     "text": [
      "You will only see this if x is positive\n",
      "x is 5\n"
     ]
    }
   ],
   "source": [
    "x = 5\n",
    "\n",
    "# if\n",
    "if x == 10:\n",
    "    print(\"You will only see this if x was 10\")\n",
    "\n",
    "    \n",
    "# if else\n",
    "if x > 0:\n",
    "    print(\"You will only see this if x is positive\")\n",
    "else:\n",
    "    print(\"You will only see this if x is zero or negative\")\n",
    "    \n",
    "# if, else if, and else\n",
    "if x > 100:\n",
    "    print(\"x is over 100\")\n",
    "elif x == 5:\n",
    "    print(\"x is 5\")\n",
    "else:\n",
    "    print(\"x is neither 5 nor over 100\")"
   ]
  },
  {
   "cell_type": "markdown",
   "metadata": {},
   "source": [
    "### Operations valid in conditionals\n",
    "Below is a table with operations that can be used in conditionals.\n",
    "\n",
    "| **Symbol** | **Operation** | **Example (Value)** |\n",
    "|----:|---------------:|-----------:\n",
    "| == | is equal to | 5 == 5 (True) |\n",
    "| **is** | is equal to (NOTE: single = is assignment, double == is 'equal to') |\n",
    "| < | less than | |\n",
    "| >= | greater or equal than | |\n",
    "| <= | less or equal than | |\n",
    "| **or** | logical OR | True or False (True) |\n",
    "| **and** | logical AND | True and False (False) |\n",
    "| **in** | checks whether something is inside a container | \"james\" in list_of_names (True if James is in the list of names) |"
   ]
  },
  {
   "cell_type": "markdown",
   "metadata": {},
   "source": [
    "Below is an example of ```and``` and ```or```."
   ]
  },
  {
   "cell_type": "code",
   "execution_count": 46,
   "metadata": {},
   "outputs": [
    {
     "name": "stdout",
     "output_type": "stream",
     "text": [
      "What is the truth value for this/that?\n",
      "one is true\n",
      "\n",
      "Is 'apple' in the fruit list? True\n"
     ]
    }
   ],
   "source": [
    "this = True\n",
    "that = False\n",
    "\n",
    "print(\"What is the truth value for this/that?\")\n",
    "if this and that:\n",
    "    print(\"both are true\")\n",
    "elif this or that:\n",
    "    print(\"one is true\")\n",
    "else:\n",
    "    print(\"neither are true\")\n",
    "\n",
    "print(\"\\nIs 'apple' in the fruit list?\", \"apple\" in fruits)"
   ]
  },
  {
   "cell_type": "markdown",
   "metadata": {},
   "source": [
    "### Exercise: Define a variable x = 3038 write a conditional that will print whether x is divisible by 7 or not"
   ]
  },
  {
   "cell_type": "code",
   "execution_count": 47,
   "metadata": {},
   "outputs": [
    {
     "name": "stdout",
     "output_type": "stream",
     "text": [
      "yes\n"
     ]
    }
   ],
   "source": [
    "# enter your code here\n",
    "x = 3038\n",
    "\n",
    "if 3038 % 7 == 0:\n",
    "    print(\"yes\")\n",
    "else:\n",
    "    print(\"no\")"
   ]
  },
  {
   "cell_type": "markdown",
   "metadata": {},
   "source": [
    "## 6. Loops\n",
    "There are two types of loops in Python: ```for``` and ```while```. Use the For loop when you know how many times you want to iterate the loop. Use the While loop when you don't know how many times you want to iterate the loop.\n",
    "\n",
    "In C++ you use brackets {} to indicate the block of code belonging to a loop. In Python we use **indentation**."
   ]
  },
  {
   "cell_type": "markdown",
   "metadata": {},
   "source": [
    "### For loops\n",
    "In Python For loops iterate over elements in a sequence (either a list, a tuple, a dictionary, a set, or a string). Unlike C++, you do not need to define an incrementing indexing variable (such as ```i```)."
   ]
  },
  {
   "cell_type": "code",
   "execution_count": 45,
   "metadata": {},
   "outputs": [
    {
     "name": "stdout",
     "output_type": "stream",
     "text": [
      "apple\n",
      "banana\n",
      "feijoa\n"
     ]
    }
   ],
   "source": [
    "# create a list\n",
    "fruits = [\"apple\", \"banana\", \"feijoa\"]\n",
    "\n",
    "# iterate through the items of the list and print them\n",
    "for f in fruits:\n",
    "    print(f)"
   ]
  },
  {
   "cell_type": "markdown",
   "metadata": {},
   "source": [
    "When iterating through dictionaries, your iterator will be the keys of the dictionary."
   ]
  },
  {
   "cell_type": "code",
   "execution_count": 49,
   "metadata": {},
   "outputs": [
    {
     "name": "stdout",
     "output_type": "stream",
     "text": [
      "Key: Hanna Value: 4\n",
      "Key: Markus Value: 3\n",
      "Key: Amat Value: 5\n"
     ]
    }
   ],
   "source": [
    "# create a dictionary\n",
    "scores = {\"Hanna\": 4, \"Markus\": 3, \"Amat\": 5}\n",
    "\n",
    "# iterate through its keys\n",
    "for key in scores:\n",
    "    print(\"Key:\", key, \"Value:\", scores[key])"
   ]
  },
  {
   "cell_type": "markdown",
   "metadata": {},
   "source": [
    "To iterate through two containers at once, use the ```zip()``` function."
   ]
  },
  {
   "cell_type": "code",
   "execution_count": 50,
   "metadata": {},
   "outputs": [
    {
     "name": "stdout",
     "output_type": "stream",
     "text": [
      "Chicago is in USA\n",
      "London is in England\n",
      "Zuerich is in Switzerland\n"
     ]
    }
   ],
   "source": [
    "cities = [\"Chicago\", \"London\", \"Zuerich\"]\n",
    "countries = [\"USA\", \"England\", \"Switzerland\"]\n",
    "\n",
    "for city, country in zip(cities, countries):\n",
    "    print(city, \"is in\", country)"
   ]
  },
  {
   "cell_type": "markdown",
   "metadata": {},
   "source": [
    "### Exercise: Increment each value in the car brand dictionary by 1 using a for loop"
   ]
  },
  {
   "cell_type": "code",
   "execution_count": 51,
   "metadata": {},
   "outputs": [
    {
     "name": "stdout",
     "output_type": "stream",
     "text": [
      "{'honda': 1, 'volvo': 6, 'saab': 15}\n"
     ]
    }
   ],
   "source": [
    "# the dictionary\n",
    "my_dictionary = {\"honda\": 0, \"volvo\": 5, \"saab\": 14}\n",
    "\n",
    "# enter your code here to increment each car brand by 1\n",
    "for k in my_dictionary:\n",
    "    my_dictionary[k] +=1\n",
    "print(my_dictionary)"
   ]
  },
  {
   "cell_type": "markdown",
   "metadata": {},
   "source": [
    "### Using range() to get indexing variable\n",
    "If we *do* want an incrementing indexing variable we will use the ```range()``` function, which creates a sequence of numbers to iterate through. By default, ```range(x)``` will contain 0 to x-1 in integer steps. We can also add more parameters to define *start, stop, step size*: ```range(start, stop, step)```. Note that *start* is inclusive, while *stop* is not. *Step* can either be positive or negative, but needs to be integer.\n",
    "\n",
    "It's common to combine ```range()``` and ```len()``` to iterate through the indices of a container."
   ]
  },
  {
   "cell_type": "code",
   "execution_count": null,
   "metadata": {},
   "outputs": [],
   "source": [
    "# iterate i from 0 to 9\n",
    "for i in range(10):\n",
    "    print(i)"
   ]
  },
  {
   "cell_type": "code",
   "execution_count": null,
   "metadata": {},
   "outputs": [],
   "source": [
    "# using an index to iterate through the fruit list\n",
    "for i in range(len(fruits)):\n",
    "    print(fruits[i], \"is at position number\", i, \"in the list.\")"
   ]
  },
  {
   "cell_type": "code",
   "execution_count": null,
   "metadata": {},
   "outputs": [],
   "source": [
    "# iterate from 10 to 50 in steps of 5\n",
    "for i in range(10,50,5):\n",
    "    print(i)"
   ]
  },
  {
   "cell_type": "markdown",
   "metadata": {},
   "source": [
    "### Exercise: Print all integers from 100 to 80 backwards in steps of 2"
   ]
  },
  {
   "cell_type": "code",
   "execution_count": 57,
   "metadata": {},
   "outputs": [
    {
     "name": "stdout",
     "output_type": "stream",
     "text": [
      "100\n",
      "98\n",
      "96\n",
      "94\n",
      "92\n",
      "90\n",
      "88\n",
      "86\n",
      "84\n",
      "82\n"
     ]
    }
   ],
   "source": [
    "# enter your code here\n",
    "for i in range(100,80,-2):\n",
    "    print(i)"
   ]
  },
  {
   "cell_type": "markdown",
   "metadata": {},
   "source": [
    "### While loops\n",
    "```while(condition)``` loops will keep iterating until the given condition is no longer true. For example, ```while(x < 5)``` will keep executing its block of code until x is NOT less than 5.\n",
    "\n",
    "The condition is checked before each time the block in the loop is run."
   ]
  },
  {
   "cell_type": "code",
   "execution_count": null,
   "metadata": {},
   "outputs": [],
   "source": [
    "x = 0\n",
    "\n",
    "while(x < 5):\n",
    "    print(\"inside the loop, and x is\", x)\n",
    "    # increment x\n",
    "    x += 1\n",
    "print(\"outside the loop, and x is\",x)"
   ]
  },
  {
   "cell_type": "markdown",
   "metadata": {},
   "source": [
    "A simple use of a while loop is to check that user input satisfies certain criteria. A for loop would not be very suitable for this, since we don't know how many tries it would take before the user gets it correctly.\n",
    "\n",
    "Below is an example of entering the correct name for a roman emperor. *Note that if you get it correctly the first try, you will not even enter the loop!*\n",
    "\n",
    "The ```input(\"some message\")``` function will prompt the user for an input in the console, and then return that input as its return value."
   ]
  },
  {
   "cell_type": "code",
   "execution_count": null,
   "metadata": {},
   "outputs": [],
   "source": [
    "emperor_name = input(\"Please enter the name of the Roman Emperor ruling between 27 BC - AD 14: \")\n",
    "while(emperor_name != \"Augustus Caesar\"):\n",
    "    emperor_name = input(\"Wrong name, please try again: \")\n",
    "print(\"That is correct!\")"
   ]
  },
  {
   "cell_type": "markdown",
   "metadata": {},
   "source": [
    "### Avoiding infinite loops\n",
    "When you write a while loop, you *NEED* to make sure that the loop has an **exit condition**. If there is no chance for the condition to be false, then you will have an infinite loop, and the rest of your code will not run. For example, ```while(True): doSomething()``` would run infinitely since True is never False (duh)."
   ]
  },
  {
   "cell_type": "markdown",
   "metadata": {},
   "source": [
    "### Exercise: Create a variable x = 2 and create a while loop with condition x <= 1024. In the loop, update x by squaring it. Count how many times the loop runs before exiting.\n",
    "\n",
    "**Hint:** Use a variable i to keep track of how many times the loop has executed."
   ]
  },
  {
   "cell_type": "code",
   "execution_count": null,
   "metadata": {},
   "outputs": [],
   "source": [
    "# enter your code here!"
   ]
  },
  {
   "cell_type": "markdown",
   "metadata": {},
   "source": [
    "## 7. Functions"
   ]
  },
  {
   "cell_type": "markdown",
   "metadata": {},
   "source": [
    "In the class saw all the main elements composing a function. Let's see an example of it."
   ]
  },
  {
   "cell_type": "code",
   "execution_count": null,
   "metadata": {},
   "outputs": [],
   "source": [
    "def my_function(param1, param2 = 3):\n",
    "    if param1 == param2: \n",
    "        print(\"The 2 parameters have the same value\")\n",
    "        return None\n",
    "    else: \n",
    "        summe = param1 + param2\n",
    "        print(summe)\n",
    "        return summe"
   ]
  },
  {
   "cell_type": "code",
   "execution_count": null,
   "metadata": {},
   "outputs": [],
   "source": [
    "my_function(1)\n",
    "my_function(1.4, 5.6)\n",
    "my_function(3)\n",
    "my_function(3,3)\n"
   ]
  },
  {
   "cell_type": "markdown",
   "metadata": {},
   "source": [
    "### Exercise: Define your own function which accepts 1 string input (default being \"Annina\"). If the string ends with letter \"a\" or \"e\", function will print \"Dear Mrs\" and the input, otherwise will print \"Dear Mr\" and the input. Return the number of letters in the input. "
   ]
  },
  {
   "cell_type": "code",
   "execution_count": null,
   "metadata": {},
   "outputs": [],
   "source": [
    "# enter your code here!"
   ]
  },
  {
   "cell_type": "markdown",
   "metadata": {},
   "source": [
    "## 8. Challenges\n",
    "\n",
    "#### 1. Print all numbers between 0-99 divisible by 7"
   ]
  },
  {
   "cell_type": "code",
   "execution_count": 58,
   "metadata": {},
   "outputs": [
    {
     "name": "stdout",
     "output_type": "stream",
     "text": [
      "0\n",
      "7\n",
      "14\n",
      "21\n",
      "28\n",
      "35\n",
      "42\n",
      "49\n",
      "56\n",
      "63\n",
      "70\n",
      "77\n",
      "84\n",
      "91\n",
      "98\n"
     ]
    }
   ],
   "source": [
    "# enter your code here\n",
    "for i in range(100):\n",
    "    if i % 7 == 0:\n",
    "        print(i)"
   ]
  },
  {
   "cell_type": "markdown",
   "metadata": {},
   "source": [
    "#### 2. Roll a dice 1000 times and store the results in a dictionary\n",
    "Use the following code to simulate a dice roll. To ask for user's input, use input() https://www.w3schools.com/python/ref_func_input.asp)"
   ]
  },
  {
   "cell_type": "code",
   "execution_count": 2,
   "metadata": {},
   "outputs": [
    {
     "name": "stdout",
     "output_type": "stream",
     "text": [
      "5\n"
     ]
    }
   ],
   "source": [
    "from random import randint as dice\n",
    "\n",
    "# call dice(1,6) to get a random number between 1 and 6 (inclusive)\n",
    "x = dice(1,6)\n",
    "print(x)"
   ]
  },
  {
   "cell_type": "markdown",
   "metadata": {},
   "source": [
    "**HINTS**\n",
    "* What should the keys and the values be of the dictionary?\n",
    "* Print the dictionary, does the distribution make sense?\n"
   ]
  },
  {
   "cell_type": "code",
   "execution_count": 3,
   "metadata": {},
   "outputs": [
    {
     "name": "stdout",
     "output_type": "stream",
     "text": [
      "{0: 5, 1: 1, 2: 5, 3: 6, 4: 2, 5: 5, 6: 2, 7: 4, 8: 2, 9: 5, 10: 5, 11: 4, 12: 3, 13: 5, 14: 2, 15: 5, 16: 2, 17: 1, 18: 6, 19: 1, 20: 1, 21: 5, 22: 3, 23: 5, 24: 5, 25: 6, 26: 4, 27: 1, 28: 6, 29: 6, 30: 5, 31: 4, 32: 1, 33: 6, 34: 2, 35: 1, 36: 5, 37: 1, 38: 6, 39: 5, 40: 6, 41: 4, 42: 6, 43: 4, 44: 2, 45: 1, 46: 3, 47: 4, 48: 6, 49: 3, 50: 5, 51: 4, 52: 3, 53: 2, 54: 2, 55: 2, 56: 3, 57: 2, 58: 1, 59: 6, 60: 6, 61: 3, 62: 4, 63: 4, 64: 2, 65: 1, 66: 5, 67: 5, 68: 3, 69: 5, 70: 6, 71: 6, 72: 4, 73: 4, 74: 1, 75: 5, 76: 1, 77: 4, 78: 6, 79: 2, 80: 1, 81: 6, 82: 1, 83: 4, 84: 6, 85: 3, 86: 1, 87: 5, 88: 1, 89: 3, 90: 3, 91: 5, 92: 1, 93: 1, 94: 6, 95: 1, 96: 1, 97: 6, 98: 3, 99: 2, 100: 3, 101: 3, 102: 6, 103: 2, 104: 2, 105: 4, 106: 2, 107: 1, 108: 4, 109: 2, 110: 4, 111: 5, 112: 6, 113: 3, 114: 1, 115: 3, 116: 1, 117: 3, 118: 1, 119: 6, 120: 1, 121: 1, 122: 3, 123: 1, 124: 2, 125: 4, 126: 5, 127: 3, 128: 6, 129: 1, 130: 1, 131: 6, 132: 3, 133: 6, 134: 5, 135: 1, 136: 6, 137: 1, 138: 3, 139: 4, 140: 6, 141: 5, 142: 2, 143: 3, 144: 2, 145: 4, 146: 3, 147: 6, 148: 3, 149: 6, 150: 3, 151: 6, 152: 6, 153: 5, 154: 6, 155: 3, 156: 6, 157: 1, 158: 5, 159: 2, 160: 3, 161: 5, 162: 5, 163: 4, 164: 6, 165: 4, 166: 2, 167: 5, 168: 5, 169: 2, 170: 6, 171: 4, 172: 2, 173: 3, 174: 1, 175: 2, 176: 1, 177: 5, 178: 5, 179: 6, 180: 2, 181: 1, 182: 4, 183: 4, 184: 4, 185: 5, 186: 3, 187: 2, 188: 1, 189: 1, 190: 3, 191: 1, 192: 6, 193: 2, 194: 3, 195: 2, 196: 5, 197: 6, 198: 3, 199: 2, 200: 5, 201: 4, 202: 5, 203: 3, 204: 4, 205: 2, 206: 3, 207: 3, 208: 1, 209: 3, 210: 6, 211: 3, 212: 3, 213: 3, 214: 3, 215: 6, 216: 5, 217: 5, 218: 1, 219: 6, 220: 6, 221: 4, 222: 6, 223: 4, 224: 4, 225: 6, 226: 6, 227: 6, 228: 6, 229: 6, 230: 2, 231: 1, 232: 3, 233: 2, 234: 3, 235: 4, 236: 2, 237: 5, 238: 2, 239: 2, 240: 6, 241: 3, 242: 1, 243: 4, 244: 3, 245: 1, 246: 2, 247: 3, 248: 3, 249: 4, 250: 1, 251: 4, 252: 3, 253: 4, 254: 6, 255: 4, 256: 1, 257: 2, 258: 2, 259: 5, 260: 3, 261: 6, 262: 6, 263: 3, 264: 5, 265: 3, 266: 1, 267: 3, 268: 2, 269: 4, 270: 1, 271: 6, 272: 4, 273: 6, 274: 2, 275: 2, 276: 3, 277: 2, 278: 5, 279: 3, 280: 3, 281: 1, 282: 5, 283: 6, 284: 1, 285: 2, 286: 6, 287: 1, 288: 4, 289: 6, 290: 1, 291: 3, 292: 6, 293: 3, 294: 4, 295: 1, 296: 6, 297: 4, 298: 6, 299: 6, 300: 3, 301: 4, 302: 3, 303: 3, 304: 5, 305: 5, 306: 1, 307: 6, 308: 3, 309: 1, 310: 6, 311: 2, 312: 6, 313: 5, 314: 1, 315: 5, 316: 5, 317: 2, 318: 1, 319: 1, 320: 5, 321: 3, 322: 1, 323: 3, 324: 5, 325: 2, 326: 6, 327: 4, 328: 4, 329: 3, 330: 4, 331: 2, 332: 4, 333: 3, 334: 5, 335: 3, 336: 5, 337: 3, 338: 5, 339: 5, 340: 5, 341: 1, 342: 1, 343: 4, 344: 2, 345: 3, 346: 4, 347: 2, 348: 1, 349: 4, 350: 6, 351: 2, 352: 3, 353: 1, 354: 4, 355: 5, 356: 6, 357: 6, 358: 3, 359: 3, 360: 1, 361: 3, 362: 6, 363: 5, 364: 4, 365: 4, 366: 5, 367: 6, 368: 3, 369: 1, 370: 3, 371: 4, 372: 2, 373: 2, 374: 2, 375: 2, 376: 4, 377: 3, 378: 5, 379: 4, 380: 6, 381: 5, 382: 2, 383: 4, 384: 6, 385: 4, 386: 6, 387: 4, 388: 5, 389: 2, 390: 3, 391: 4, 392: 4, 393: 5, 394: 3, 395: 5, 396: 6, 397: 6, 398: 1, 399: 3, 400: 3, 401: 2, 402: 3, 403: 3, 404: 2, 405: 3, 406: 1, 407: 3, 408: 4, 409: 3, 410: 4, 411: 3, 412: 3, 413: 3, 414: 4, 415: 5, 416: 6, 417: 5, 418: 2, 419: 5, 420: 6, 421: 3, 422: 1, 423: 4, 424: 2, 425: 1, 426: 2, 427: 1, 428: 4, 429: 1, 430: 2, 431: 4, 432: 5, 433: 1, 434: 5, 435: 6, 436: 2, 437: 5, 438: 4, 439: 2, 440: 1, 441: 2, 442: 5, 443: 1, 444: 4, 445: 2, 446: 3, 447: 3, 448: 6, 449: 5, 450: 6, 451: 2, 452: 3, 453: 4, 454: 6, 455: 6, 456: 4, 457: 3, 458: 3, 459: 6, 460: 3, 461: 1, 462: 2, 463: 2, 464: 3, 465: 1, 466: 2, 467: 6, 468: 4, 469: 1, 470: 6, 471: 3, 472: 6, 473: 5, 474: 4, 475: 3, 476: 6, 477: 6, 478: 2, 479: 4, 480: 5, 481: 1, 482: 3, 483: 2, 484: 1, 485: 2, 486: 3, 487: 6, 488: 6, 489: 2, 490: 5, 491: 2, 492: 5, 493: 2, 494: 3, 495: 1, 496: 3, 497: 1, 498: 4, 499: 4, 500: 2, 501: 5, 502: 4, 503: 4, 504: 6, 505: 5, 506: 5, 507: 2, 508: 6, 509: 3, 510: 5, 511: 1, 512: 5, 513: 6, 514: 1, 515: 4, 516: 4, 517: 4, 518: 2, 519: 3, 520: 6, 521: 1, 522: 3, 523: 1, 524: 6, 525: 3, 526: 2, 527: 5, 528: 4, 529: 1, 530: 4, 531: 4, 532: 1, 533: 3, 534: 6, 535: 6, 536: 4, 537: 3, 538: 4, 539: 2, 540: 5, 541: 1, 542: 5, 543: 4, 544: 1, 545: 6, 546: 6, 547: 2, 548: 5, 549: 1, 550: 2, 551: 2, 552: 2, 553: 1, 554: 5, 555: 2, 556: 1, 557: 4, 558: 5, 559: 3, 560: 2, 561: 6, 562: 6, 563: 6, 564: 5, 565: 1, 566: 1, 567: 3, 568: 2, 569: 4, 570: 6, 571: 2, 572: 1, 573: 3, 574: 1, 575: 5, 576: 4, 577: 5, 578: 2, 579: 5, 580: 2, 581: 5, 582: 6, 583: 3, 584: 1, 585: 3, 586: 1, 587: 2, 588: 3, 589: 1, 590: 1, 591: 5, 592: 5, 593: 2, 594: 6, 595: 1, 596: 4, 597: 2, 598: 2, 599: 4, 600: 6, 601: 6, 602: 3, 603: 1, 604: 2, 605: 4, 606: 5, 607: 4, 608: 5, 609: 5, 610: 6, 611: 5, 612: 5, 613: 2, 614: 1, 615: 5, 616: 1, 617: 4, 618: 5, 619: 2, 620: 5, 621: 3, 622: 2, 623: 6, 624: 4, 625: 4, 626: 3, 627: 3, 628: 5, 629: 5, 630: 2, 631: 2, 632: 6, 633: 4, 634: 1, 635: 6, 636: 2, 637: 6, 638: 1, 639: 1, 640: 4, 641: 3, 642: 4, 643: 6, 644: 3, 645: 4, 646: 6, 647: 1, 648: 4, 649: 5, 650: 5, 651: 1, 652: 5, 653: 3, 654: 3, 655: 3, 656: 2, 657: 3, 658: 5, 659: 6, 660: 4, 661: 2, 662: 4, 663: 4, 664: 6, 665: 2, 666: 4, 667: 6, 668: 2, 669: 6, 670: 5, 671: 5, 672: 4, 673: 4, 674: 1, 675: 1, 676: 3, 677: 6, 678: 3, 679: 5, 680: 5, 681: 2, 682: 2, 683: 3, 684: 2, 685: 1, 686: 6, 687: 2, 688: 5, 689: 5, 690: 1, 691: 2, 692: 5, 693: 1, 694: 2, 695: 2, 696: 5, 697: 1, 698: 3, 699: 2, 700: 4, 701: 4, 702: 4, 703: 1, 704: 4, 705: 2, 706: 2, 707: 2, 708: 1, 709: 6, 710: 1, 711: 1, 712: 2, 713: 5, 714: 3, 715: 1, 716: 6, 717: 3, 718: 3, 719: 6, 720: 4, 721: 3, 722: 1, 723: 3, 724: 5, 725: 2, 726: 1, 727: 3, 728: 1, 729: 6, 730: 2, 731: 3, 732: 4, 733: 2, 734: 6, 735: 4, 736: 2, 737: 5, 738: 2, 739: 2, 740: 6, 741: 6, 742: 4, 743: 6, 744: 5, 745: 4, 746: 4, 747: 4, 748: 4, 749: 5, 750: 6, 751: 4, 752: 4, 753: 4, 754: 5, 755: 5, 756: 6, 757: 3, 758: 5, 759: 2, 760: 5, 761: 5, 762: 3, 763: 6, 764: 3, 765: 3, 766: 1, 767: 5, 768: 5, 769: 1, 770: 4, 771: 1, 772: 6, 773: 3, 774: 4, 775: 4, 776: 6, 777: 6, 778: 3, 779: 3, 780: 4, 781: 3, 782: 3, 783: 5, 784: 4, 785: 6, 786: 2, 787: 6, 788: 3, 789: 2, 790: 2, 791: 4, 792: 6, 793: 1, 794: 1, 795: 3, 796: 3, 797: 4, 798: 1, 799: 5, 800: 6, 801: 3, 802: 1, 803: 6, 804: 4, 805: 6, 806: 2, 807: 4, 808: 6, 809: 1, 810: 2, 811: 1, 812: 1, 813: 4, 814: 2, 815: 5, 816: 1, 817: 2, 818: 6, 819: 1, 820: 5, 821: 3, 822: 5, 823: 4, 824: 1, 825: 3, 826: 3, 827: 1, 828: 5, 829: 5, 830: 1, 831: 6, 832: 6, 833: 1, 834: 2, 835: 4, 836: 4, 837: 5, 838: 5, 839: 2, 840: 3, 841: 3, 842: 5, 843: 4, 844: 6, 845: 1, 846: 4, 847: 5, 848: 2, 849: 6, 850: 1, 851: 2, 852: 6, 853: 5, 854: 4, 855: 6, 856: 1, 857: 3, 858: 4, 859: 5, 860: 6, 861: 1, 862: 2, 863: 2, 864: 3, 865: 5, 866: 6, 867: 4, 868: 2, 869: 1, 870: 4, 871: 6, 872: 4, 873: 6, 874: 2, 875: 3, 876: 2, 877: 5, 878: 4, 879: 5, 880: 1, 881: 1, 882: 3, 883: 3, 884: 1, 885: 1, 886: 4, 887: 4, 888: 4, 889: 6, 890: 6, 891: 6, 892: 2, 893: 2, 894: 4, 895: 6, 896: 2, 897: 2, 898: 2, 899: 4, 900: 5, 901: 3, 902: 6, 903: 3, 904: 1, 905: 6, 906: 3, 907: 6, 908: 6, 909: 4, 910: 1, 911: 3, 912: 6, 913: 5, 914: 5, 915: 4, 916: 6, 917: 2, 918: 1, 919: 2, 920: 5, 921: 3, 922: 6, 923: 2, 924: 6, 925: 4, 926: 3, 927: 4, 928: 3, 929: 3, 930: 6, 931: 2, 932: 1, 933: 5, 934: 2, 935: 1, 936: 6, 937: 6, 938: 1, 939: 6, 940: 4, 941: 3, 942: 2, 943: 6, 944: 4, 945: 2, 946: 4, 947: 6, 948: 4, 949: 1, 950: 4, 951: 6, 952: 1, 953: 3, 954: 1, 955: 4, 956: 1, 957: 2, 958: 5, 959: 2, 960: 2, 961: 6, 962: 5, 963: 1, 964: 3, 965: 6, 966: 2, 967: 5, 968: 1, 969: 1, 970: 1, 971: 3, 972: 5, 973: 1, 974: 2, 975: 1, 976: 5, 977: 1, 978: 4, 979: 5, 980: 3, 981: 1, 982: 6, 983: 2, 984: 2, 985: 5, 986: 1, 987: 1, 988: 1, 989: 1, 990: 1, 991: 1, 992: 2, 993: 4, 994: 4, 995: 3, 996: 1, 997: 1, 998: 1, 999: 5}\n"
     ]
    }
   ],
   "source": [
    "# enter your solution here\n",
    "my_dict = {}\n",
    "for i in range(1000):\n",
    "    my_dict[i] = dice(1,6)\n",
    "\n",
    "print(my_dict)"
   ]
  },
  {
   "cell_type": "markdown",
   "metadata": {},
   "source": [
    "#### 3. Do you want to play Rock, Paper, Scissors?"
   ]
  },
  {
   "cell_type": "markdown",
   "metadata": {},
   "source": [
    "Make a Rock-Paper-Scissors game against your computer. (Hint: Ask for player choice (using input, https://www.w3schools.com/python/ref_func_input.asp), let the computer choose a random element from the 3 possible plays (https://docs.python.org/3/library/random.html), compare the two choices, print out a message of congratulations to the winner)\n",
    "\n",
    "Remember the rules:\n",
    "\n",
    "Rock beats scissors <br>\n",
    "Scissors beats paper  <br>\n",
    "Paper beats rock <br>"
   ]
  },
  {
   "cell_type": "code",
   "execution_count": 25,
   "metadata": {},
   "outputs": [
    {
     "name": "stdout",
     "output_type": "stream",
     "text": [
      "player: rock\n",
      "computer: scissor\n",
      "player wins\n"
     ]
    }
   ],
   "source": [
    "from random import choice #to select a random element from the list \n",
    "choices = [\"rock\", \"paper\", \"scissor\"]\n",
    "player_choice = \"rock\"\n",
    "computer_choice = choice(choices)\n",
    "\n",
    "print(\"player: \" + player_choice)\n",
    "print(\"computer: \" + computer_choice)\n",
    "if player_choice == \"paper\" and computer_choice == \"rock\":\n",
    "    print(\"player wins\")\n",
    "elif player_choice == \"rock\" and computer_choice == \"scissor\":\n",
    "    print(\"player wins\")\n",
    "elif player_choice == \"scissor\" and computer_choice == \"paper\":\n",
    "    print(\"player wins\")\n",
    "elif player_choice == computer_choice:\n",
    "    print(\"tie\")\n",
    "else:\n",
    "    print(\"computer wins\")\n"
   ]
  }
 ],
 "metadata": {
  "kernelspec": {
   "display_name": "Python 3",
   "language": "python",
   "name": "python3"
  },
  "language_info": {
   "codemirror_mode": {
    "name": "ipython",
    "version": 3
   },
   "file_extension": ".py",
   "mimetype": "text/x-python",
   "name": "python",
   "nbconvert_exporter": "python",
   "pygments_lexer": "ipython3",
   "version": "3.11.5"
  }
 },
 "nbformat": 4,
 "nbformat_minor": 4
}
